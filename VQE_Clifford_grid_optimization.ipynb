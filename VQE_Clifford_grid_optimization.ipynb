{
  "nbformat": 4,
  "nbformat_minor": 0,
  "metadata": {
    "colab": {
      "name": "VQE_Clifford-grid optimization.ipynb",
      "provenance": [],
      "collapsed_sections": [],
      "authorship_tag": "ABX9TyNJUzcOQvL9RqQsu25R+Mbu",
      "include_colab_link": true
    },
    "kernelspec": {
      "name": "python3",
      "display_name": "Python 3"
    },
    "language_info": {
      "name": "python"
    },
    "gpuClass": "standard"
  },
  "cells": [
    {
      "cell_type": "markdown",
      "metadata": {
        "id": "view-in-github",
        "colab_type": "text"
      },
      "source": [
        "<a href=\"https://colab.research.google.com/github/tobiasgobel/VQE_project/blob/master/VQE_Clifford_grid_optimization.ipynb\" target=\"_parent\"><img src=\"https://colab.research.google.com/assets/colab-badge.svg\" alt=\"Open In Colab\"/></a>"
      ]
    },
    {
      "cell_type": "code",
      "execution_count": 97,
      "metadata": {
        "id": "HOWsR9LirocD"
      },
      "outputs": [],
      "source": [
        "from sympy.series import series\n",
        "from scipy.optimize import minimize, NonlinearConstraint\n",
        "import time\n",
        "import itertools\n",
        "from sympy import symbols, Matrix, SparseMatrix, cos, sin, expand, lambdify, O\n",
        "from sympy.utilities.iterables import multiset_permutations\n",
        "\n",
        "from functools import *\n",
        "from operator import *\n",
        "import scipy\n",
        "import sympy\n",
        "import numpy as np\n",
        "import random\n",
        "import math\n",
        "from numba import jit"
      ]
    },
    {
      "cell_type": "code",
      "source": [
        "Pauli = {\"X\":np.array([[0.,1.],[1.,0.]]),\"Y\":np.array([[0.,-1j],[1j,0.]]), \"Z\":np.array([[1.,0.],[0.,-1.]]), \"I\":np.eye(2)}\n",
        "print(Pauli[\"I\"])"
      ],
      "metadata": {
        "colab": {
          "base_uri": "https://localhost:8080/"
        },
        "id": "7GwGc9Vde2Z6",
        "outputId": "cf8f6e23-ca7f-4e68-823c-264f542ae2a9"
      },
      "execution_count": 98,
      "outputs": [
        {
          "output_type": "stream",
          "name": "stdout",
          "text": [
            "[[1. 0.]\n",
            " [0. 1.]]\n"
          ]
        }
      ]
    },
    {
      "cell_type": "code",
      "source": [
        ""
      ],
      "metadata": {
        "id": "1GQzTEcvfk5c"
      },
      "execution_count": 98,
      "outputs": []
    },
    {
      "cell_type": "markdown",
      "source": [
        "Functions"
      ],
      "metadata": {
        "id": "SVNI_Y5Q1sWH"
      }
    },
    {
      "cell_type": "markdown",
      "source": [
        "We denote the ansatz as following:\n",
        "ansatz = [\"X0Y1\",\"X1Y2\",\"X0X1Y2\"]"
      ],
      "metadata": {
        "id": "d1_Qx0m6i18M"
      }
    },
    {
      "cell_type": "code",
      "source": [
        "class Operators:\n",
        "  def __init__(self, ansatz, N):\n",
        "    self.ansatz = ansatz\n",
        "    self.N = N\n",
        "  def split(self):\n",
        "      paulis = []\n",
        "      positions = []\n",
        "      for i in range(len(self.ansatz)):\n",
        "          pauli_lst = []\n",
        "          pos_lst = []\n",
        "          #creating lists of operators and corresponding positions\n",
        "          prev_int = False\n",
        "          for k in self.ansatz[i]:\n",
        "              if k.isdigit():\n",
        "                  if not prev_int:\n",
        "                      pos_lst.append(k)\n",
        "                  else:\n",
        "                      pos_lst[-1] += k\n",
        "                  prev_int = True\n",
        "              else:\n",
        "                  pauli_lst.append(k)\n",
        "                  prev_int = False\n",
        "          paulis.append(pauli_lst)\n",
        "          positions.append(pos_lst)\n",
        "      return positions, paulis\n",
        "  @jit(nopython = True)\n",
        "  def matrix_repr(self):\n",
        "    positions, paulis = self.split()\n",
        "    matrices = []\n",
        "    for i in range(len(self.ansatz)):\n",
        "      Kron = 1\n",
        "      counter = 0\n",
        "      for j in range(self.N):\n",
        "        if counter == len(positions[i]):\n",
        "          for _ in range(self.N-j):\n",
        "            Kron = np.kron(Kron, Pauli[\"I\"])\n",
        "          break\n",
        "        elif j == int(positions[i][counter]):\n",
        "          Kron = np.kron(Kron, Pauli[paulis[i][counter]])\n",
        "          counter+=1\n",
        "        else:\n",
        "          Kron = np.kron(Kron, Pauli[\"I\"])\n",
        "      matrices += [Kron]\n",
        "    return matrices\n",
        "\n",
        "def pauli_on_pauli(p1,p2):\n",
        "    \n",
        "    if p1 == 'X' and p2 == 'Y':\n",
        "        return 1j, 'Z'\n",
        "    elif p1 == 'X' and p2 == 'X':\n",
        "        return 1, 'I'\n",
        "    elif p1 == 'Y' and p2 == 'Y':\n",
        "        return 1, 'I'\n",
        "    elif p1 == 'Z' and p2 == 'Z':\n",
        "        return 1, 'I'\n",
        "    elif p1 == 'Z' and p2 == 'X':\n",
        "        return 1j, 'Y'\n",
        "    elif p1 == 'Z' and p2 == 'Y':\n",
        "        return -1j, 'X'\n",
        "    elif p1 == 'I':\n",
        "        return 1, p2\n",
        "    elif p2 == 'I':\n",
        "        return 1, p1\n",
        "    else:\n",
        "        a, p = pauli_on_pauli(p2,p1)\n",
        "        return -1*a, p\n",
        "\n",
        "def single_pauli_action(pauli, spin):\n",
        "    \n",
        "    if pauli=='X':\n",
        "        return((spin+1)%2, 1)\n",
        "    elif pauli=='Y':\n",
        "        return((spin+1)%2, 1j*(-1)**spin)\n",
        "    elif pauli=='Z':\n",
        "        return(spin, (-1)**spin)\n",
        "    elif pauli=='I':\n",
        "        return(spin, 1)\n",
        "    else:\n",
        "        print('wrong pauli!')\n",
        "        return(None)\n",
        "\n",
        "def findCombinationsUtil(li, arr, index, num, reducedNum):\n",
        "    z = []\n",
        "    if (reducedNum < 0): \n",
        "        return; \n",
        "    if (reducedNum == 0): \n",
        "  \n",
        "        for i in range(index): \n",
        "            z = z + [arr[i]]\n",
        "        li.append(z) \n",
        "        return;\n",
        "\n",
        "    prev = 1 if (index == 0) else arr[index - 1]; \n",
        "  \n",
        "    for k in range(prev, num + 1): \n",
        "          \n",
        "\n",
        "        arr[index] = k; \n",
        "  \n",
        "        findCombinationsUtil(li,arr, index + 1, num,  \n",
        "                                 reducedNum - k); \n",
        "    return li\n",
        "\n",
        "def k_all(N, generators, order): \n",
        "      \n",
        "    # array to store the combinations \n",
        "    # It can contain max n elements\n",
        "    out = []\n",
        "    k_length = len(generators)\n",
        "    for k in range(1, order+1):\n",
        "        arr = [0] * k;\n",
        "        output = []\n",
        "        a =  findCombinationsUtil([], arr, 0, k, k);\n",
        "        for i in a:\n",
        "            if len(i)<= k_length:\n",
        "                i = i.extend((k_length-len(i))*[0])\n",
        "        for j in a:\n",
        "            if len(j) == k_length:\n",
        "#                 if k_vector(N, interactions,j).state()[1] != N*[0]:\n",
        "                output = output + list(multiset_permutations(j))\n",
        "        out =  out+ output\n",
        "    return [[0]*k_length]+out\n",
        "\n",
        "def power_product(x,y):\n",
        "    out = 1\n",
        "    for i in range(len(x)):\n",
        "         out*= x[i]**y[i]\n",
        "    return out\n",
        "\n"
      ],
      "metadata": {
        "id": "F_q9EbKbmwAz"
      },
      "execution_count": 99,
      "outputs": []
    },
    {
      "cell_type": "code",
      "source": [
        "class pauli:\n",
        "  def __init__(self,string, N, factor = 1):\n",
        "    self.string = string\n",
        "    self.factor = factor\n",
        "    self.N = N\n",
        "    self.starting_state = np.array([0]*self.N)\n",
        "\n",
        "  def __str__(self):\n",
        "    return self.string+\".   factor: \"+str(self.factor)\n",
        "    \n",
        "  #define multiplying by a constant (on left hand side)\n",
        "  def __rmul__(self, c):\n",
        "    self.factor *= c\n",
        "    return self\n",
        "\n",
        "  #define the power of a pauli string\n",
        "  def __pow__(self, c): \n",
        "    C = pauli(\"I0\",self.N)\n",
        "    for i in range(c):\n",
        "      C = C*self\n",
        "    return C\n",
        "\n",
        "  #define multiplying two pauli strings\n",
        "  def __mul__(self, x):\n",
        "    pos1, pauli1 = self.split()\n",
        "    pos2, pauli2 = x.split()\n",
        "    factor = self.factor*x.factor\n",
        "    string = \"\"\n",
        "    counter1 =0\n",
        "    counter2 =0\n",
        "\n",
        "    for j in range(self.N):\n",
        "      end1 = counter1 == len(pos1)\n",
        "      end2 = counter2 == len(pos2)\n",
        "\n",
        "      if not end1 and not end2:\n",
        "        if int(pos1[counter1]) == j and int(pos2[counter2]) == j:\n",
        "          a, p= pauli_on_pauli(pauli1[counter1],pauli2[counter2])\n",
        "          factor *= a\n",
        "          string+= p+str(j)\n",
        "          counter1+=1\n",
        "          counter2+=1\n",
        "        elif int(pos1[counter1]) == j:\n",
        "          string+=pauli1[counter1]+str(j)\n",
        "          counter1+=1\n",
        "        elif int(pos2[counter2]) == j:\n",
        "          string+=pauli2[counter2]+str(j)\n",
        "          counter2+=1\n",
        "      elif not end1:\n",
        "        if int(pos1[counter1]) == j:\n",
        "          string+=pauli1[counter1]+str(j)\n",
        "          counter1+=1\n",
        "      elif not end2:\n",
        "          if int(pos2[counter2]) == j:\n",
        "            string+=pauli2[counter2]+str(j)\n",
        "            counter2+=1\n",
        "      else:\n",
        "        pass\n",
        "      \n",
        "    return pauli(string, self.N, factor)\n",
        "\n",
        "  #calculate resulting state of paulistring when acted upon initial_state  \n",
        "  def state(self, initial_state = 0):\n",
        "    pos, pauli = self.split()\n",
        "    init_state = self.starting_state + initial_state\n",
        "    a = self.factor\n",
        "    for j in range(len(pos)):\n",
        "      Pauli = pauli[j]\n",
        "      spin = init_state[int(pos[j])-1]\n",
        "      new_spin, factor = single_pauli_action(Pauli,spin)\n",
        "      init_state[int(pos[j])-1] = new_spin\n",
        "      a *= factor\n",
        "    return a, init_state\n",
        "\n",
        "    \n",
        "#creating lists of operators and corresponding positions\n",
        "  def split(self):\n",
        "    pauli_lst = []\n",
        "    pos_lst = []\n",
        "    prev_int = False\n",
        "    for k in self.string:\n",
        "        if k.isdigit():\n",
        "            if not prev_int:\n",
        "                pos_lst.append(k)\n",
        "            else:\n",
        "                pos_lst[-1] += k\n",
        "            prev_int = True\n",
        "        else:\n",
        "            pauli_lst.append(k)\n",
        "            prev_int = False\n",
        "    return pos_lst, pauli_lst\n",
        "  \n",
        "\n",
        "  "
      ],
      "metadata": {
        "id": "huyNk0fAVhVn"
      },
      "execution_count": 100,
      "outputs": []
    },
    {
      "cell_type": "code",
      "source": [
        "#gives result of transformation exp(-i*T1)*T2*exp(i*T2)\n",
        "def Clifford_map(T1, T2, reversed_arguments = True):\n",
        "  T1T2 = T1*T2\n",
        "  T2T1 = T2*T1\n",
        "\n",
        "  if T1T2.factor == T2T1.factor:\n",
        "    if reversed_arguments:\n",
        "      return T1\n",
        "    else:\n",
        "      return T2\n",
        "  elif T1T2.factor == -T2T1.factor:\n",
        "    if reversed_arguments:\n",
        "      return -1j*T2T1\n",
        "    else:\n",
        "      return -1j*T1T2\n",
        "  else:\n",
        "    return \"something wrong here\"\n",
        "\n",
        "\n",
        "#returns list of pauli objects that are the result \n",
        "#of pulling all clifford gates to the left\n",
        "def pull_cliffords_through(ansatz, K, N):\n",
        "  T_K = [ansatz[0]]\n",
        "  \n",
        "  for j in range(1, len(ansatz)):\n",
        "    T = ansatz[j]\n",
        "    for i in range(j-1,-1,-1):\n",
        "      for _ in range(K[i]):\n",
        "        T = Clifford_map(T,ansatz[i])\n",
        "    T_K += [T] \n",
        "  return T_K\n",
        "\n",
        "\n",
        "\n"
      ],
      "metadata": {
        "id": "ZSJxM8x8pPg3"
      },
      "execution_count": 101,
      "outputs": []
    },
    {
      "cell_type": "code",
      "source": [
        "#creates a dictionary of states that contain contributions \n",
        "def s_dict(N, ansatz, K, order):\n",
        "\n",
        "  lst = list(map(list, itertools.product([0, 1], repeat=N))) #all possible bitstrings\n",
        "  s_dict = {str(i):{} for i in lst} #keys: possible bitstrings, values dictionary with orders\n",
        "  T_K = pull_cliffords_through(ansatz, K, N)\n",
        "  K_all = k_all(N, ansatz, order)\n",
        "\n",
        "  for i in K_all: #loop through all \n",
        "    #calculate state that is produced by T_i\n",
        "    pauli_string = power_product(T_K[::-1], i[::-1])\n",
        "    factor, state = pauli_string.state()\n",
        "\n",
        "    #calculate magnitude of term\n",
        "    theta = power_product(thetas, i)\n",
        "    factorial = np.prod(np.array([math.factorial(j) for j in i]))\n",
        "    term = theta*(1j)**sum(i)*factor/factorial\n",
        "\n",
        "    #add to right place in dictionary\n",
        "    s_dict[str(list(state))][str(i)]= term\n",
        "  return s_dict\n",
        "\n",
        "\n"
      ],
      "metadata": {
        "id": "4xB0HTgqegS5"
      },
      "execution_count": 102,
      "outputs": []
    },
    {
      "cell_type": "code",
      "source": [
        "def energy(thetas, H,ansatz, s_dict, K, order):\n",
        "  E = 0\n",
        "  s_dict1 = s_dict\n",
        "  # print(\"sdict\",s_dict1)\n",
        "  for P in H: #loop through terms in Hamiltonian\n",
        "    E_a = 0\n",
        "\n",
        "    #Initialize list of Clifford gates with respective power of K.\n",
        "    G_K = [ansatz[i]**K[i] for i in range(len(K))]\n",
        "\n",
        "    #Apply nested Clifford Map to obtain G^-K P_a G^K\n",
        "    paulistring = reduce(Clifford_map, [P]+G_K[::-1])\n",
        "\n",
        "    #loop over basis states\n",
        "    for s in s_dict1:\n",
        "      E_a_s = 0\n",
        "    \n",
        "      #Calculate G^-K P_a G^K |s>\n",
        "      a, state = paulistring.state(eval(s))\n",
        "\n",
        "      #Define contributions of |s> and |s'>\n",
        "      psi_s1 = s_dict1[str(s)]\n",
        "      psi_s2 = s_dict1[str(list(state))]\n",
        "\n",
        "      #Double for loop to take the right orders in perturbation theory\n",
        "      for S in k_all(N, ansatz, order):\n",
        "          for j in k_all(N,ansatz,order-sum(S)):\n",
        "              if str(S) in psi_s1 and str(j) in psi_s2:\n",
        "                E_a_s += psi_s1[str(S)]*np.conj(psi_s2[str(j)])*power_product(thetas,S)*power_product(thetas,j)\n",
        "              else:\n",
        "                pass\n",
        "      E_a_s *= a\n",
        "      E_a += E_a_s\n",
        "    \n",
        "    E += E_a\n",
        "  return np.real(E)\n"
      ],
      "metadata": {
        "id": "ioP9CYUN5iYq"
      },
      "execution_count": 103,
      "outputs": []
    },
    {
      "cell_type": "code",
      "source": [
        "N = 4\n",
        "ansatz = [pauli(\"X0Y1\",N),pauli(\"X1Y2\",N),pauli(\"X2Y3\",N)]\n",
        "\n",
        "Z_h = -.1\n",
        "X_h = -1\n",
        "H = [pauli(\"Z0\",N,Z_h),pauli(\"Z1\",N,Z_h),pauli(\"Z2\",N,Z_h),pauli(\"Z3\",N,Z_h),pauli(\"X0X1\",N,X_h),pauli(\"X1X2\",N,X_h),pauli(\"X2X3\",N,X_h)]\n",
        "K = [0,0,0]\n",
        "order = 5\n",
        "thetas=[-.25,-.25,-.25]\n",
        "s = s_dict(N, ansatz, K, order)\n",
        "print(energy(thetas, H, ansatz, s, K, order))"
      ],
      "metadata": {
        "id": "mr6YLanr7snr",
        "colab": {
          "base_uri": "https://localhost:8080/"
        },
        "outputId": "36ab458f-83d2-4417-e35f-3cddb09a4f31"
      },
      "execution_count": 104,
      "outputs": [
        {
          "output_type": "stream",
          "name": "stdout",
          "text": [
            "-0.021306610107421756\n"
          ]
        }
      ]
    },
    {
      "cell_type": "code",
      "source": [
        "initial_guess = [0]*len(ansatz)\n",
        "result = scipy.optimize.minimize(energy, initial_guess,jac = False, args = (H,ansatz,s,K,order))"
      ],
      "metadata": {
        "id": "nFQ7aIzxpA-q"
      },
      "execution_count": null,
      "outputs": []
    },
    {
      "cell_type": "code",
      "source": [
        "print(result)"
      ],
      "metadata": {
        "id": "ikTlQhYbuuQQ"
      },
      "execution_count": null,
      "outputs": []
    },
    {
      "cell_type": "code",
      "source": [
        "np.pi/4"
      ],
      "metadata": {
        "colab": {
          "base_uri": "https://localhost:8080/"
        },
        "id": "GGeBFHlIoitA",
        "outputId": "7d5433cd-bc07-4918-81b9-e85b94fe8f01"
      },
      "execution_count": 58,
      "outputs": [
        {
          "output_type": "execute_result",
          "data": {
            "text/plain": [
              "0.7853981633974483"
            ]
          },
          "metadata": {},
          "execution_count": 58
        }
      ]
    },
    {
      "cell_type": "code",
      "source": [
        ""
      ],
      "metadata": {
        "id": "Oz3fC9GioqFN"
      },
      "execution_count": null,
      "outputs": []
    }
  ]
}