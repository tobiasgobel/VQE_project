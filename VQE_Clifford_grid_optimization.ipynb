{
  "nbformat": 4,
  "nbformat_minor": 0,
  "metadata": {
    "colab": {
      "name": "VQE_Clifford-grid optimization.ipynb",
      "provenance": [],
      "collapsed_sections": [],
      "authorship_tag": "ABX9TyMNfgLW3Uay5/4pX1nfP+AO",
      "include_colab_link": true
    },
    "kernelspec": {
      "name": "python3",
      "display_name": "Python 3"
    },
    "language_info": {
      "name": "python"
    },
    "gpuClass": "standard"
  },
  "cells": [
    {
      "cell_type": "markdown",
      "metadata": {
        "id": "view-in-github",
        "colab_type": "text"
      },
      "source": [
        "<a href=\"https://colab.research.google.com/github/tobiasgobel/VQE_project/blob/master/VQE_Clifford_grid_optimization.ipynb\" target=\"_parent\"><img src=\"https://colab.research.google.com/assets/colab-badge.svg\" alt=\"Open In Colab\"/></a>"
      ]
    },
    {
      "cell_type": "code",
      "execution_count": 2,
      "metadata": {
        "id": "HOWsR9LirocD"
      },
      "outputs": [],
      "source": [
        "from sympy.series import series\n",
        "from scipy.optimize import minimize, NonlinearConstraint\n",
        "import time\n",
        "import itertools\n",
        "from sympy import symbols, Matrix, SparseMatrix, cos, sin, expand, lambdify, O\n",
        "from sympy.utilities.iterables import multiset_permutations\n",
        "\n",
        "from functools import *\n",
        "from operator import *\n",
        "import scipy\n",
        "import sympy\n",
        "import numpy as np\n",
        "import random\n",
        "import math\n",
        "from numba import jit\n"
      ]
    },
    {
      "cell_type": "code",
      "source": [
        "from functools import wraps\n",
        "from time import time\n",
        "\n",
        "def timing(f):\n",
        "    @wraps(f)\n",
        "    def wrap(*args, **kw):\n",
        "        ts = time()\n",
        "        result = f(*args, **kw)\n",
        "        te = time()\n",
        "        print('func:%r  took: %2.4f sec' %(f.__name__, te-ts))\n",
        "        return result\n",
        "    return wrap"
      ],
      "metadata": {
        "id": "7GwGc9Vde2Z6"
      },
      "execution_count": 3,
      "outputs": []
    },
    {
      "cell_type": "code",
      "source": [
        ""
      ],
      "metadata": {
        "id": "1GQzTEcvfk5c"
      },
      "execution_count": 3,
      "outputs": []
    },
    {
      "cell_type": "markdown",
      "source": [
        "Functions"
      ],
      "metadata": {
        "id": "SVNI_Y5Q1sWH"
      }
    },
    {
      "cell_type": "markdown",
      "source": [
        "We denote the ansatz as following:\n",
        "ansatz = [\"X0Y1\",\"X1Y2\",\"X0X1Y2\"]"
      ],
      "metadata": {
        "id": "d1_Qx0m6i18M"
      }
    },
    {
      "cell_type": "code",
      "source": [
        "\n",
        "def pauli_on_pauli(p1,p2):\n",
        "    \n",
        "    if p1 == 'X' and p2 == 'Y':\n",
        "        return 1j, 'Z'\n",
        "    elif p1 == 'X' and p2 == 'X':\n",
        "        return 1, 'I'\n",
        "    elif p1 == 'Y' and p2 == 'Y':\n",
        "        return 1, 'I'\n",
        "    elif p1 == 'Z' and p2 == 'Z':\n",
        "        return 1, 'I'\n",
        "    elif p1 == 'Z' and p2 == 'X':\n",
        "        return 1j, 'Y'\n",
        "    elif p1 == 'Z' and p2 == 'Y':\n",
        "        return -1j, 'X'\n",
        "    elif p1 == 'I':\n",
        "        return 1, p2\n",
        "    elif p2 == 'I':\n",
        "        return 1, p1\n",
        "    else:\n",
        "        a, p = pauli_on_pauli(p2,p1)\n",
        "        return -1*a, p\n",
        "\n",
        "def single_pauli_action(pauli, spin):\n",
        "    \n",
        "    if pauli=='X':\n",
        "        return((spin+1)%2, 1)\n",
        "    elif pauli=='Y':\n",
        "        return((spin+1)%2, 1j*(-1)**spin)\n",
        "    elif pauli=='Z':\n",
        "        return(spin, (-1)**spin)\n",
        "    elif pauli=='I':\n",
        "        return(spin, 1)\n",
        "    else:\n",
        "        print('wrong pauli!')\n",
        "        return(None)\n",
        "\n",
        "def findCombinationsUtil(li, arr, index, num, reducedNum):\n",
        "    z = []\n",
        "    if (reducedNum < 0): \n",
        "        return; \n",
        "    if (reducedNum == 0): \n",
        "  \n",
        "        for i in range(index): \n",
        "            z = z + [arr[i]]\n",
        "        li.append(z) \n",
        "        return;\n",
        "\n",
        "    prev = 1 if (index == 0) else arr[index - 1]; \n",
        "  \n",
        "    for k in range(prev, num + 1): \n",
        "          \n",
        "\n",
        "        arr[index] = k; \n",
        "  \n",
        "        findCombinationsUtil(li,arr, index + 1, num,  \n",
        "                                 reducedNum - k); \n",
        "    return li\n",
        "\n",
        "def k_all(N, generators, order): \n",
        "      \n",
        "    # array to store the combinations \n",
        "    # It can contain max n elements\n",
        "    out = []\n",
        "    k_length = len(generators)\n",
        "    for k in range(1, order+1):\n",
        "        arr = [0] * k;\n",
        "        output = []\n",
        "        a =  findCombinationsUtil([], arr, 0, k, k);\n",
        "        for i in a:\n",
        "            if len(i)<= k_length:\n",
        "                i = i.extend((k_length-len(i))*[0])\n",
        "        for j in a:\n",
        "            if len(j) == k_length:\n",
        "#                 if k_vector(N, interactions,j).state()[1] != N*[0]:\n",
        "                output = output + list(multiset_permutations(j))\n",
        "        out =  out+ output\n",
        "    return [tuple(p) for p in [[0]*k_length] + out]\n",
        "\n",
        "def power_product(x,y):\n",
        "    out = 1\n",
        "    for i in range(len(x)):\n",
        "         out*= x[i]**y[i]\n",
        "    return out\n",
        "\n"
      ],
      "metadata": {
        "id": "F_q9EbKbmwAz"
      },
      "execution_count": 4,
      "outputs": []
    },
    {
      "cell_type": "code",
      "source": [
        "class pauli:\n",
        "  def __init__(self,string, N, factor = 1):\n",
        "    self.string = string\n",
        "    self.factor = factor\n",
        "    self.N = N\n",
        "    self.starting_state = np.array([0]*self.N)\n",
        "\n",
        "  def __str__(self):\n",
        "    return self.string+\".   factor: \"+str(self.factor)\n",
        "    \n",
        "  #define multiplying by a constant (on left hand side)\n",
        "  def __rmul__(self, c):\n",
        "    self.factor *= c\n",
        "    return self\n",
        "\n",
        "  #define the power of a pauli string\n",
        "  def __pow__(self, c): \n",
        "    C = pauli(\"I0\",self.N)\n",
        "    for i in range(abs(c)):\n",
        "      C = C*self\n",
        "    return C\n",
        "\n",
        "  #define multiplying two pauli strings\n",
        "  def __mul__(self, x):\n",
        "    pos1, pauli1 = self.split()\n",
        "    pos2, pauli2 = x.split()\n",
        "    factor = self.factor*x.factor\n",
        "    string = \"\"\n",
        "    counter1 =0\n",
        "    counter2 =0\n",
        "\n",
        "    for j in range(self.N):\n",
        "      end1 = counter1 == len(pos1)\n",
        "      end2 = counter2 == len(pos2)\n",
        "\n",
        "      if not end1 and not end2:\n",
        "        if int(pos1[counter1]) == j and int(pos2[counter2]) == j:\n",
        "          a, p= pauli_on_pauli(pauli1[counter1],pauli2[counter2])\n",
        "          factor *= a\n",
        "          string+= p+str(j)\n",
        "          counter1+=1\n",
        "          counter2+=1\n",
        "        elif int(pos1[counter1]) == j:\n",
        "          string+=pauli1[counter1]+str(j)\n",
        "          counter1+=1\n",
        "        elif int(pos2[counter2]) == j:\n",
        "          string+=pauli2[counter2]+str(j)\n",
        "          counter2+=1\n",
        "      elif not end1:\n",
        "        if int(pos1[counter1]) == j:\n",
        "          string+=pauli1[counter1]+str(j)\n",
        "          counter1+=1\n",
        "      elif not end2:\n",
        "          if int(pos2[counter2]) == j:\n",
        "            string+=pauli2[counter2]+str(j)\n",
        "            counter2+=1\n",
        "      else:\n",
        "        pass\n",
        "      \n",
        "    return pauli(string, self.N, factor)\n",
        "\n",
        "  #calculate resulting state of paulistring when acted upon initial_state  \n",
        "  def state(self, initial_state = 0):\n",
        "    pos, pauli = self.split()\n",
        "    init_state = self.starting_state + initial_state\n",
        "    a = self.factor\n",
        "    for j in range(len(pos)):\n",
        "      Pauli = pauli[j]\n",
        "      spin = init_state[int(pos[j])]\n",
        "      new_spin, factor = single_pauli_action(Pauli,spin)\n",
        "      init_state[int(pos[j])] = new_spin\n",
        "      a *= factor\n",
        "    return a, tuple(init_state)\n",
        "\n",
        "    \n",
        "#creating lists of operators and corresponding positions\n",
        "  def split(self):\n",
        "    pauli_lst = []\n",
        "    pos_lst = []\n",
        "    prev_int = False\n",
        "    for k in self.string:\n",
        "        if k.isdigit():\n",
        "            if not prev_int:\n",
        "                pos_lst.append(k)\n",
        "            else:\n",
        "                pos_lst[-1] += k\n",
        "            prev_int = True\n",
        "        else:\n",
        "            pauli_lst.append(k)\n",
        "            prev_int = False\n",
        "    return pos_lst, pauli_lst\n",
        "  \n",
        "\n",
        "  "
      ],
      "metadata": {
        "id": "huyNk0fAVhVn"
      },
      "execution_count": 5,
      "outputs": []
    },
    {
      "cell_type": "code",
      "source": [
        "#gives result of transformation exp(-i*T1)*T2*exp(i*T2)\n",
        "def Clifford_map(T1, T2, reversed_arguments = True):\n",
        "  T1T2 = T1*T2\n",
        "  T2T1 = T2*T1\n",
        "\n",
        "  if T1T2.factor == T2T1.factor:\n",
        "    if reversed_arguments:\n",
        "      return T1\n",
        "    else:\n",
        "      return T2\n",
        "  elif T1T2.factor == -T2T1.factor:\n",
        "    if reversed_arguments:\n",
        "      return -1j*T2T1\n",
        "    else:\n",
        "      return -1j*T1T2\n",
        "  else:\n",
        "    return \"something wrong here\"\n",
        "\n",
        "\n",
        "#returns list of pauli objects that are the result \n",
        "#of pulling all clifford gates to the left\n",
        "def pull_cliffords_through(ansatz, K, N):\n",
        "  T_K = [ansatz[0]]\n",
        "  \n",
        "  for j in range(1, len(ansatz)):\n",
        "    T = ansatz[j]\n",
        "    for i in range(j-1,-1,-1):\n",
        "      for _ in range(K[i]):\n",
        "        T = Clifford_map(T,ansatz[i])\n",
        "    T_K += [T] \n",
        "  return T_K\n",
        "\n",
        "\n",
        "\n"
      ],
      "metadata": {
        "id": "ZSJxM8x8pPg3"
      },
      "execution_count": 14,
      "outputs": []
    },
    {
      "cell_type": "code",
      "source": [
        "@timing\n",
        "def s_dict(N, ansatz, K, order):\n",
        "  start = time()\n",
        "  s_dict = {} #keys: possible bitstrings, values dictionary with orders\n",
        "  T_K = pull_cliffords_through(ansatz, K, N)\n",
        "  K_all = k_all(N, ansatz, order)\n",
        "\n",
        "  for i in K_all: #loop through all \n",
        "    \n",
        "    #calculate state that is produced by T_i\n",
        "    pauli_string = power_product(T_K[::-1], i[::-1])\n",
        "    factor, state = pauli_string.state()\n",
        "\n",
        "    #calculate magnitude of term\n",
        "    factorial = np.prod(np.array([math.factorial(j) for j in i]))\n",
        "    term = (1j)**sum(i)*factor/factorial\n",
        "    #check whether binary string is in dictionary, otherwise add\n",
        "    if state not in s_dict:\n",
        "      s_dict[state] = {}\n",
        "    if sum(i) not in s_dict[state]:\n",
        "      s_dict[state][sum(i)] = ([list(i)],[term])\n",
        "    else:\n",
        "      current = s_dict[state][sum(i)]\n",
        "      current[0].append(list(i))\n",
        "      current[1].append(term)\n",
        "  for st in s_dict:\n",
        "    for som in s_dict[st]:\n",
        "      lst = s_dict[st][som]\n",
        "      s_dict[st][som] = (np.array(lst[0]),np.array(lst[1]))\n",
        "  return s_dict\n",
        "\n",
        "\n",
        "def G_k(N, H, ansatz, K):\n",
        "  g_k = []\n",
        "\n",
        "  #Initialize list of Clifford gates with respective power of K.\n",
        "  G_K = []\n",
        "  for i in range(len(K)):\n",
        "    G_K += [np.sign(K[i])*ansatz[i]]*abs(K[i])\n",
        "  for P in H:\n",
        "    # G_K = [ansatz[i]**K[i] for i in range(len(K))]\n",
        "    #Apply nested Clifford Map to obtain G^-K P_a G^K\n",
        "    paulistring = reduce(Clifford_map, [P]+G_K[::-1])\n",
        "    g_k += [paulistring]\n",
        "  return g_k\n",
        "\n",
        "@jit(nopython=True)\n",
        "def dict_add(k,values, thetas):\n",
        "  sum = 0\n",
        "  for i in range(k.shape[0]):\n",
        "    product = 1\n",
        "    for j in range(k.shape[1]):\n",
        "      product*=thetas[j]**k[i,j]\n",
        "\n",
        "    sum += product*values[i]\n",
        "  return sum"
      ],
      "metadata": {
        "id": "4xB0HTgqegS5"
      },
      "execution_count": 120,
      "outputs": []
    },
    {
      "cell_type": "code",
      "source": [
        "\n",
        "def energy(thetas,ansatz, s_dict,G_K, order):\n",
        "  E = 0\n",
        "  s_dict1 = s_dict\n",
        "  for paulistring in G_K: #loop through terms in Hamiltonian\n",
        "    E_a = 0\n",
        "\n",
        "    #loop over basis states\n",
        "    for s in s_dict1:\n",
        "      E_a_s = 0\n",
        "    \n",
        "      #Calculate G^-K P_a G^K |s>\n",
        "      a, state = paulistring.state(s)\n",
        "\n",
        "      #Define contributions of |s> and |s'>\n",
        "      psi_s1 = s_dict1[s]\n",
        "      psi_s2 = s_dict1[state]\n",
        "      #Double for loop to take the right orders in perturbation theory\n",
        "      for o1 in psi_s1:\n",
        "        for o2 in range(order - o1 +1):\n",
        "          if o2 in psi_s2:\n",
        "            A = dict_add(psi_s1[o1][0],psi_s1[o1][1],thetas)\n",
        "            B = dict_add(psi_s2[o2][0],psi_s2[o2][1],thetas)\n",
        "            E_a_s += A*np.conj(B)\n",
        "\n",
        "      E_a_s *= a\n",
        "      E_a += E_a_s\n",
        "    \n",
        "    E += E_a\n",
        "  return np.real(E)\n"
      ],
      "metadata": {
        "id": "ioP9CYUN5iYq"
      },
      "execution_count": 121,
      "outputs": []
    },
    {
      "cell_type": "code",
      "source": [
        "class K_hopping:\n",
        "  def __init__(self,N, ansatz, H, order, K_init):\n",
        "    self.N = N\n",
        "    self.ansatz = ansatz\n",
        "    self.H = H\n",
        "    self.order = order\n",
        "    self.K = K_init\n",
        "    self.path = [K_init.copy()]\n",
        "    self.len = len(ansatz)\n",
        "    self.E_path = []\n",
        "\n",
        "  def evaluate(self):\n",
        "    #init thetas\n",
        "    initial_guess = [.001]*self.len\n",
        "\n",
        "    #initializing s-dictionary and clifford gates\n",
        "    s = s_dict(self.N, self.ansatz, self.K, self.order)\n",
        "    G_K = G_k(self.N, self.H, self.ansatz, self.K)\n",
        "    print(\"evl\",self.K)\n",
        "    \n",
        "    #scipy minimize around self.K\n",
        "    result = scipy.optimize.minimize(energy, initial_guess,jac = False, args = (self.ansatz,s,G_K,self.order))\n",
        "    print(result)\n",
        "    return result\n",
        "\n",
        "  def step(self, result):\n",
        "    #determine index largest angle\n",
        "    thetas = result.x\n",
        "    index = np.argmax(np.abs(thetas))\n",
        "    print(result.x,result.fun)\n",
        "    if thetas[index] >= np.pi/8:\n",
        "      self.K[index] += 1\n",
        "    elif thetas[index] <= -np.pi/8:\n",
        "      self.K[index] -= 1\n",
        "    else:\n",
        "      return False\n",
        "    self.path += [self.K.copy()]\n",
        "    print(self.K)\n",
        "    return True\n",
        "\n",
        "  @timing\n",
        "  def hopping(self,iters=10):\n",
        "    next = True\n",
        "    for _ in range(iters):\n",
        "      result = self.evaluate()\n",
        "      next = self.step(result)\n",
        "      if not next:\n",
        "        return result\n",
        "    return result\n",
        "\n",
        "\n",
        "\n"
      ],
      "metadata": {
        "id": "GGeBFHlIoitA"
      },
      "execution_count": 138,
      "outputs": []
    },
    {
      "cell_type": "code",
      "source": [
        "N = 4\n",
        "ansatz = [pauli(\"X0Y1\",N),pauli(\"X1Y2\",N),pauli(\"X2Y3\",N)]\n",
        "\n",
        "Z_h = -.1\n",
        "X_h = -.2\n",
        "H = [pauli(\"Z0\",N,Z_h),pauli(\"Z1\",N,Z_h),pauli(\"Z2\",N,Z_h),pauli(\"Z3\",N,Z_h),pauli(\"X0X1\",N,X_h),pauli(\"X1X2\",N,X_h),pauli(\"X2X3\",N,X_h)]\n",
        "\n",
        "K = [0]*3\n",
        "order = 10\n",
        "\n",
        "instance = K_hopping(N,ansatz, H, order, K)\n",
        "print(instance.hopping(), instance.path)"
      ],
      "metadata": {
        "id": "p3T40plh8rHG",
        "colab": {
          "base_uri": "https://localhost:8080/"
        },
        "outputId": "3f9435bd-bd39-4d4f-85ef-19ff2b14fcb6"
      },
      "execution_count": 139,
      "outputs": [
        {
          "output_type": "stream",
          "name": "stdout",
          "text": [
            "func:'s_dict'  took: 0.0541 sec\n",
            "evl [0, 0, 0]\n",
            "      fun: -0.6732438530089973\n",
            " hess_inv: array([[1.08462793, 0.33971072, 0.08462894],\n",
            "       [0.33971072, 1.26696743, 0.33970775],\n",
            "       [0.08462894, 0.33970775, 1.08462994]])\n",
            "      jac: array([1.13248825e-06, 4.32133675e-07, 1.12503767e-06])\n",
            "  message: 'Optimization terminated successfully.'\n",
            "     nfev: 24\n",
            "      nit: 5\n",
            "     njev: 6\n",
            "   status: 0\n",
            "  success: True\n",
            "        x: array([-0.46088969, -0.51356427, -0.46088969])\n",
            "[-0.46088969 -0.51356427 -0.46088969] -0.6732438530089973\n",
            "[0, -1, 0]\n",
            "func:'s_dict'  took: 0.0464 sec\n",
            "evl [0, -1, 0]\n",
            "      fun: -0.4\n",
            " hess_inv: array([[1, 0, 0],\n",
            "       [0, 1, 0],\n",
            "       [0, 0, 1]])\n",
            "      jac: array([0., 0., 0.])\n",
            "  message: 'Optimization terminated successfully.'\n",
            "     nfev: 4\n",
            "      nit: 0\n",
            "     njev: 1\n",
            "   status: 0\n",
            "  success: True\n",
            "        x: array([0.001, 0.001, 0.001])\n",
            "[0.001 0.001 0.001] -0.4\n",
            "func:'hopping'  took: 0.2062 sec\n",
            "      fun: -0.4\n",
            " hess_inv: array([[1, 0, 0],\n",
            "       [0, 1, 0],\n",
            "       [0, 0, 1]])\n",
            "      jac: array([0., 0., 0.])\n",
            "  message: 'Optimization terminated successfully.'\n",
            "     nfev: 4\n",
            "      nit: 0\n",
            "     njev: 1\n",
            "   status: 0\n",
            "  success: True\n",
            "        x: array([0.001, 0.001, 0.001]) [[0, 0, 0], [0, -1, 0]]\n"
          ]
        }
      ]
    },
    {
      "cell_type": "code",
      "source": [
        "N = 10\n",
        "ansatz = [pauli(\"X0Y1\",N),pauli(\"X1Y2\",N),pauli(\"X2Y3\",N),pauli(\"X3Y4\",N),pauli(\"X4Y5\",N),pauli(\"X5Y6\",N),pauli(\"X6Y7\",N),pauli(\"X7Y8\",N),pauli(\"X8Y9\",N)]\n",
        "Z_h = -1\n",
        "X_h = -1\n",
        "H = [pauli(\"Z0\",N,Z_h),pauli(\"Z1\",N,Z_h),pauli(\"Z2\",N,Z_h),pauli(\"Z3\",N,Z_h),pauli(\"Z4\",N,Z_h),pauli(\"Z5\",N,Z_h),pauli(\"Z6\",N,Z_h),pauli(\"Z7\",N,Z_h),pauli(\"Z8\",N,Z_h),pauli(\"Z9\",N,Z_h)]\n",
        "H+=[pauli(\"X0X1\",N,X_h),pauli(\"X1X2\",N,X_h),pauli(\"X2X3\",N,X_h),pauli(\"X4X5\",N),pauli(\"X5X6\",N),pauli(\"X6X7\",N),pauli(\"X7X8\",N),pauli(\"X8X9\",N)]\n",
        "K = [0]*9\n",
        "order = 10\n",
        "thetas=[0]*9\n",
        "\n",
        "# N = 3\n",
        "# ansatz = [pauli(\"X0Y1\",N),pauli(\"X1Y2\",N)]\n",
        "# H = [pauli(\"Z0\",N,Z_h),pauli(\"Z1\",N,Z_h),pauli(\"Z2\",N,Z_h)]\n",
        "# H+= [pauli(\"X0X1\",N,X_h),pauli(\"X1X2\",N)]\n",
        "# order = 4\n",
        "# thetas = [0,0]\n",
        "# K = [0,0]\n",
        "\n",
        "s = s_dict(N, ansatz, K, order)\n",
        "G_K = G_k(N, H, ansatz, K)\n",
        "# print(s)\n",
        "\n",
        "# print([str(i) for i in G_K])\n",
        "\n",
        "print(energy(thetas, ansatz, s, G_K, order))\n",
        "# print()"
      ],
      "metadata": {
        "id": "mr6YLanr7snr",
        "colab": {
          "base_uri": "https://localhost:8080/"
        },
        "outputId": "f5255772-dfa3-476c-aa0d-948650a4c048"
      },
      "execution_count": 128,
      "outputs": [
        {
          "output_type": "stream",
          "name": "stdout",
          "text": [
            "func:'s_dict'  took: 28.5853 sec\n"
          ]
        },
        {
          "output_type": "stream",
          "name": "stderr",
          "text": [
            "/usr/local/lib/python3.7/dist-packages/numba/core/ir_utils.py:2031: NumbaPendingDeprecationWarning: \n",
            "Encountered the use of a type that is scheduled for deprecation: type 'reflected list' found for argument 'thetas' of function 'dict_add'.\n",
            "\n",
            "For more information visit https://numba.pydata.org/numba-doc/latest/reference/deprecation.html#deprecation-of-reflection-for-list-and-set-types\n",
            "\n",
            "File \"<ipython-input-120-26ada535f089>\", line 48:\n",
            "@jit(nopython=True)\n",
            "def dict_add(k,values, thetas):\n",
            "^\n",
            "\n",
            "  warnings.warn(NumbaPendingDeprecationWarning(msg, loc=loc))\n"
          ]
        },
        {
          "output_type": "stream",
          "name": "stdout",
          "text": [
            "-10.0\n"
          ]
        }
      ]
    },
    {
      "cell_type": "code",
      "source": [
        "print(127.01835942268372-127.01831936836243)\n",
        "print(127.01804065704346-127.01831936836243)"
      ],
      "metadata": {
        "colab": {
          "base_uri": "https://localhost:8080/"
        },
        "id": "B3V8gONfN1zf",
        "outputId": "608b388a-5602-4023-9efa-8a926ee26df3"
      },
      "execution_count": 118,
      "outputs": [
        {
          "output_type": "stream",
          "name": "stdout",
          "text": [
            "4.00543212890625e-05\n",
            "-0.00027871131896972656\n"
          ]
        }
      ]
    },
    {
      "cell_type": "code",
      "source": [
        "initial_guess = [0]*len(ansatz)\n",
        "result = scipy.optimize.minimize(energy, initial_guess,jac = False, args = (ansatz,s,G_K,order))"
      ],
      "metadata": {
        "id": "nFQ7aIzxpA-q"
      },
      "execution_count": 129,
      "outputs": []
    },
    {
      "cell_type": "code",
      "source": [
        "print(result)"
      ],
      "metadata": {
        "colab": {
          "base_uri": "https://localhost:8080/"
        },
        "id": "ikTlQhYbuuQQ",
        "outputId": "9aeb9243-840e-4a31-b74b-9da28b66fbdc"
      },
      "execution_count": 130,
      "outputs": [
        {
          "output_type": "stream",
          "name": "stdout",
          "text": [
            "      fun: -11.968432487101088\n",
            " hess_inv: array([[ 5.61097407e-01,  1.46855190e-02, -4.38869847e-01,\n",
            "         4.94431381e-05, -4.21177916e-04,  8.28131721e-04,\n",
            "         1.61780743e-03,  7.54232264e-04, -4.43673169e-04],\n",
            "       [ 1.46855190e-02,  1.28238091e-01,  1.46784114e-02,\n",
            "        -6.00456937e-06, -3.37173915e-04,  8.01112829e-04,\n",
            "         1.37842852e-03,  8.23810585e-04, -3.41721009e-04],\n",
            "       [-4.38869847e-01,  1.46784114e-02,  5.61162886e-01,\n",
            "         4.94209307e-05, -4.47374214e-04,  8.24919515e-04,\n",
            "         1.57600825e-03,  7.51045567e-04, -4.69855149e-04],\n",
            "       [ 4.94431381e-05, -6.00456937e-06,  4.94209307e-05,\n",
            "         9.99999965e-01, -3.45227319e-05, -3.50902631e-07,\n",
            "        -6.45702368e-05, -3.10940136e-07, -3.45003187e-05],\n",
            "       [-4.21177916e-04, -3.37173915e-04, -4.47374214e-04,\n",
            "        -3.45227319e-05,  5.60544593e-01,  6.85412339e-03,\n",
            "         4.18615622e-05,  6.88936357e-03, -4.39419090e-01],\n",
            "       [ 8.28131721e-04,  8.01112829e-04,  8.24919515e-04,\n",
            "        -3.50902631e-07,  6.85412339e-03,  5.66027011e-01,\n",
            "         1.77449533e-02, -4.33959520e-01,  6.84688985e-03],\n",
            "       [ 1.61780743e-03,  1.37842852e-03,  1.57600825e-03,\n",
            "        -6.45702368e-05,  4.18615622e-05,  1.77449533e-02,\n",
            "         1.33584019e-01,  1.78174393e-02,  9.30615875e-05],\n",
            "       [ 7.54232264e-04,  8.23810585e-04,  7.51045567e-04,\n",
            "        -3.10940136e-07,  6.88936357e-03, -4.33959520e-01,\n",
            "         1.78174393e-02,  5.66053903e-01,  6.88210530e-03],\n",
            "       [-4.43673169e-04, -3.41721009e-04, -4.69855149e-04,\n",
            "        -3.45003187e-05, -4.39419090e-01,  6.84688985e-03,\n",
            "         9.30615875e-05,  6.88210530e-03,  5.60617212e-01]])\n",
            "      jac: array([ 3.57627869e-07, -1.19209290e-06, -5.72204590e-06, -6.79492950e-06,\n",
            "        9.53674316e-07, -7.27176666e-06, -6.07967377e-06,  2.50339508e-06,\n",
            "        5.96046448e-06])\n",
            "  message: 'Optimization terminated successfully.'\n",
            "     nfev: 140\n",
            "      nit: 9\n",
            "     njev: 14\n",
            "   status: 0\n",
            "  success: True\n",
            "        x: array([-2.45545227e-01, -2.57904617e-01, -2.45545917e-01, -9.67637519e-07,\n",
            "        2.45754194e-01,  2.59800667e-01,  2.61301613e-01,  2.59801941e-01,\n",
            "        2.45754900e-01])\n"
          ]
        }
      ]
    },
    {
      "cell_type": "code",
      "source": [
        "current =([[2, 1]], [(0.5-0j)])\n",
        "current[0].append([[1,2]])\n",
        "print(current)"
      ],
      "metadata": {
        "colab": {
          "base_uri": "https://localhost:8080/"
        },
        "id": "CxhOWOtU_Gtm",
        "outputId": "ea58e976-478a-40fd-c702-1e48d24ac3d9"
      },
      "execution_count": 85,
      "outputs": [
        {
          "output_type": "stream",
          "name": "stdout",
          "text": [
            "([[2, 1], [[1, 2]]], [(0.5+0j)])\n"
          ]
        }
      ]
    },
    {
      "cell_type": "code",
      "source": [
        "start = time()\n",
        "print(f'Code took {time()-start}')"
      ],
      "metadata": {
        "colab": {
          "base_uri": "https://localhost:8080/"
        },
        "id": "0tdu_FTZHGuA",
        "outputId": "74535c64-f9a3-4778-e327-7088682a571c"
      },
      "execution_count": 109,
      "outputs": [
        {
          "output_type": "stream",
          "name": "stdout",
          "text": [
            "Code took 6.246566772460938e-05\n"
          ]
        }
      ]
    },
    {
      "cell_type": "code",
      "source": [
        ""
      ],
      "metadata": {
        "id": "5gnapC1KMKnx"
      },
      "execution_count": null,
      "outputs": []
    }
  ]
}