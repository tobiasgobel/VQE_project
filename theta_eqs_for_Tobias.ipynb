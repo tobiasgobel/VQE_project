{
 "cells": [
  {
   "cell_type": "markdown",
   "metadata": {},
   "source": [
    "# Theta initialization"
   ]
  },
  {
   "cell_type": "code",
   "execution_count": 14,
   "metadata": {},
   "outputs": [],
   "source": [
    "import thetas"
   ]
  },
  {
   "cell_type": "markdown",
   "metadata": {},
   "source": [
    "## Example of use"
   ]
  },
  {
   "cell_type": "code",
   "execution_count": 10,
   "metadata": {},
   "outputs": [],
   "source": [
    "J=0.2\n",
    "\n",
    "#PT orders that you want to approximate with your initialization\n",
    "\n",
    "max_PT_order=3\n",
    "\n",
    "spin_amount=4\n",
    "\n",
    "input_couplings=[['X1X2',0.2],['X2X3',0.2],['X3X4',0.2]]\n",
    "\n",
    "input_generators=['Y1X2','Y2X3','Y3X4','Y1X3','Y2X4','Y1X4']"
   ]
  },
  {
   "cell_type": "code",
   "execution_count": 11,
   "metadata": {},
   "outputs": [
    {
     "name": "stdout",
     "output_type": "stream",
     "text": [
      "theta_eqs object created in 0.0 seconds\n",
      "\n",
      "Equations initialization complete in 0.23041296005249023 seconds\n",
      "\n",
      "The number of variables is: 18\n",
      "\n",
      "The number of equations is: 11\n",
      "\n",
      "The avg number of terms per equation is: 12.454545454545455\n",
      "\n",
      "The avg nonlinearity is: 2.2773722627737225\n",
      "\n",
      "Equations solved in: 1.1673805713653564 seconds,\n",
      " The equations are solved with precision:  2.6611946497857678e-11 \n",
      ", The solutions are returned and also stored in self.theta_k_values\n",
      "\n"
     ]
    },
    {
     "data": {
      "text/plain": [
       "array([ 7.24780113e-11,  2.49997866e-01,  0.00000000e+00,  1.01757603e-09,\n",
       "        1.04155209e-02,  2.37224129e-10, -1.87500639e-01,  1.71716259e-06,\n",
       "        6.25040640e-02, -5.20864722e-02,  2.49999342e-01, -1.87498381e-01,\n",
       "        2.50000131e-01,  7.24397106e-11,  4.16676831e-02,  1.01430514e-09,\n",
       "        3.70788826e-10,  0.00000000e+00])"
      ]
     },
     "execution_count": 11,
     "metadata": {},
     "output_type": "execute_result"
    }
   ],
   "source": [
    "theta_eqs=thetas.theta_eqs(J,max_PT_order,spin_amount,input_couplings,input_generators, debugging_mode=False)\n",
    "\n",
    "theta_eqs.equation_initialize(equation_size_statistics=True)\n",
    "\n",
    "theta_eqs.equation_solving()"
   ]
  },
  {
   "cell_type": "code",
   "execution_count": 13,
   "metadata": {},
   "outputs": [
    {
     "data": {
      "text/plain": [
       "array([ 7.24780113e-11,  2.49997866e-01,  0.00000000e+00,  1.01757603e-09,\n",
       "        1.04155209e-02,  2.37224129e-10, -1.87500639e-01,  1.71716259e-06,\n",
       "        6.25040640e-02, -5.20864722e-02,  2.49999342e-01, -1.87498381e-01,\n",
       "        2.50000131e-01,  7.24397106e-11,  4.16676831e-02,  1.01430514e-09,\n",
       "        3.70788826e-10,  0.00000000e+00])"
      ]
     },
     "execution_count": 13,
     "metadata": {},
     "output_type": "execute_result"
    }
   ],
   "source": [
    "# Here are the initialization parameters\n",
    "\n",
    "theta_eqs.theta_k_values"
   ]
  }
 ],
 "metadata": {
  "kernelspec": {
   "display_name": "Python 3",
   "language": "python",
   "name": "python3"
  },
  "toc": {
   "base_numbering": 1,
   "nav_menu": {
    "height": "229px",
    "width": "286px"
   },
   "number_sections": true,
   "sideBar": true,
   "skip_h1_title": false,
   "title_cell": "Table of Contents",
   "title_sidebar": "Contents",
   "toc_cell": false,
   "toc_position": {
    "height": "48px",
    "left": "1031px",
    "top": "110.8px",
    "width": "284px"
   },
   "toc_section_display": true,
   "toc_window_display": true
  }
 },
 "nbformat": 4,
 "nbformat_minor": 2
}
