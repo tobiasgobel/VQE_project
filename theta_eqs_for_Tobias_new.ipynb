{
 "cells": [
  {
   "cell_type": "markdown",
   "metadata": {},
   "source": [
    "# Theta initialization"
   ]
  },
  {
   "cell_type": "code",
   "execution_count": 1,
   "metadata": {},
   "outputs": [],
   "source": [
    "import thetas"
   ]
  },
  {
   "cell_type": "markdown",
   "metadata": {},
   "source": [
    "## Example of use"
   ]
  },
  {
   "cell_type": "code",
   "execution_count": 33,
   "metadata": {},
   "outputs": [],
   "source": [
    "J=0.2\n",
    "\n",
    "#PT orders that you want to approximate with your initialization\n",
    "\n",
    "max_PT_order=5\n",
    "\n",
    "spin_amount=4\n",
    "\n",
    "input_couplings=[['X1X2',0.2],['X2X3',0.2],['X3X4',0.2]]\n",
    "\n",
    "input_generators=['Y1X2','Y2X3','Y3X4','Y1X3']#,'Y2X4','Y1X4']"
   ]
  },
  {
   "cell_type": "code",
   "execution_count": 34,
   "metadata": {},
   "outputs": [
    {
     "name": "stdout",
     "output_type": "stream",
     "text": [
      "theta_eqs object created in 0.0001709461212158203 seconds\n",
      "\n",
      "Equations initialization complete in 0.5912840366363525 seconds\n",
      "\n",
      "The number of variables is: 20\n",
      "\n",
      "The number of equations is: 19\n",
      "\n",
      "The avg number of terms per equation is: 29.0\n",
      "\n",
      "The avg nonlinearity is: 3.266787658802178\n",
      "\n",
      "The bounds are: ((-5.0, 5.0), (-5.0, 5.0), (-5.0, 5.0), (-5.0, 5.0), (-5.0, 5.0), (-5.0, 5.0), (-5.0, 5.0), (-5.0, 5.0), (-5.0, 5.0), (-5.0, 5.0), (-5.0, 5.0), (-5.0, 5.0), (-5.0, 5.0), (-5.0, 5.0), (-5.0, 5.0), (-5.0, 5.0), (-5.0, 5.0), (-5.0, 5.0), (-5.0, 5.0), (-5.0, 5.0))\n",
      "\n",
      "Equations solved in: 3.0954771041870117 seconds,\n",
      " The equations are solved with precision:  0.03359015730073641 \n",
      ", The solutions are returned and also stored in self.theta_values\n",
      "\n"
     ]
    },
    {
     "data": {
      "text/plain": [
       "[0.05069049471789576,\n",
       " 0.043715866373017984,\n",
       " 0.04415351841116025,\n",
       " -0.007368163611552779]"
      ]
     },
     "execution_count": 34,
     "metadata": {},
     "output_type": "execute_result"
    }
   ],
   "source": [
    "theta_eqs=thetas.theta_eqs(J,max_PT_order,spin_amount,input_couplings,input_generators, debugging_mode=False)\n",
    "\n",
    "theta_eqs.equation_initialize(equation_size_statistics=True)\n",
    "\n",
    "theta_eqs.equation_solving()"
   ]
  },
  {
   "cell_type": "code",
   "execution_count": 35,
   "metadata": {},
   "outputs": [
    {
     "name": "stdout",
     "output_type": "stream",
     "text": [
      "[ 3.30357069e-04  8.87304407e-05  3.04766059e-04 -7.46443413e-05]\n"
     ]
    }
   ],
   "source": [
    "a = [0.051020851786839024,\n",
    " 0.04380459681369389,\n",
    " 0.04445828447065875,\n",
    " -0.0074428079528397265]\n",
    "import numpy as np\n",
    "b = [0.05069049471789576,\n",
    " 0.043715866373017984,\n",
    " 0.04415351841116025,\n",
    " -0.007368163611552779]\n",
    "\n",
    "print(np.array(a)-np.array(b))\n",
    "\n"
   ]
  },
  {
   "cell_type": "code",
   "execution_count": 4,
   "metadata": {},
   "outputs": [
    {
     "data": {
      "text/plain": [
       "[0.04957484670721121,\n",
       " 0.05008345824355139,\n",
       " 0.05032178664307941,\n",
       " -0.007488699272879523,\n",
       " -0.007513538957107027,\n",
       " 0.0007317602483479579]"
      ]
     },
     "execution_count": 4,
     "metadata": {},
     "output_type": "execute_result"
    }
   ],
   "source": [
    "def plotting(model, gate_range):\n",
    "    gates = range(gate_range)\n",
    "    E = []\n",
    "    for g in gates:\n",
    "        file = subclass(number_of_gates = g).get_data()\n",
    "        En = file[\"Energy\"]\n",
    "        E.append(En)\n",
    "    plt.plot(gates, E)\n",
    "        "
   ]
  },
  {
   "cell_type": "code",
   "execution_count": null,
   "metadata": {},
   "outputs": [],
   "source": []
  }
 ],
 "metadata": {
  "kernelspec": {
   "display_name": "Python 3",
   "language": "python",
   "name": "python3"
  },
  "language_info": {
   "codemirror_mode": {
    "name": "ipython",
    "version": 3
   },
   "file_extension": ".py",
   "mimetype": "text/x-python",
   "name": "python",
   "nbconvert_exporter": "python",
   "pygments_lexer": "ipython3",
   "version": "3.7.0"
  },
  "toc": {
   "base_numbering": 1,
   "nav_menu": {
    "height": "229px",
    "width": "286px"
   },
   "number_sections": true,
   "sideBar": true,
   "skip_h1_title": false,
   "title_cell": "Table of Contents",
   "title_sidebar": "Contents",
   "toc_cell": false,
   "toc_position": {
    "height": "48px",
    "left": "1031px",
    "top": "110.8px",
    "width": "284px"
   },
   "toc_section_display": true,
   "toc_window_display": true
  }
 },
 "nbformat": 4,
 "nbformat_minor": 2
}
