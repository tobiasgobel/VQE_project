{
 "cells": [
  {
   "cell_type": "markdown",
   "metadata": {},
   "source": [
    "# Theta initialization"
   ]
  },
  {
   "cell_type": "code",
   "execution_count": 1,
   "metadata": {},
   "outputs": [],
   "source": [
    "import thetas"
   ]
  },
  {
   "cell_type": "markdown",
   "metadata": {},
   "source": [
    "## Example of use"
   ]
  },
  {
   "cell_type": "code",
   "execution_count": 2,
   "metadata": {},
   "outputs": [],
   "source": [
    "J=0.2\n",
    "\n",
    "#PT orders that you want to approximate with your initialization\n",
    "\n",
    "max_PT_order=3\n",
    "\n",
    "spin_amount=4\n",
    "\n",
    "input_couplings=[['X1X2',0.2],['X2X3',0.2],['X3X4',0.2]]\n",
    "\n",
    "input_generators=['Y1X2','Y2X3','Y3X4','Y1X3','Y2X4','Y1X4']"
   ]
  },
  {
   "cell_type": "code",
   "execution_count": 3,
   "metadata": {},
   "outputs": [
    {
     "name": "stdout",
     "output_type": "stream",
     "text": [
      "theta_eqs object created in 0.0 seconds\n",
      "\n",
      "Equations initialization complete in 0.10571050643920898 seconds\n",
      "\n",
      "The number of variables is: 18\n",
      "\n",
      "The number of equations is: 11\n",
      "\n",
      "The avg number of terms per equation is: 12.454545454545455\n",
      "\n",
      "The avg nonlinearity is: 2.2773722627737225\n",
      "\n",
      "Equations solved in: 1.3719749450683594 seconds,\n",
      " The equations are solved with precision:  2.6611946497857678e-11 \n",
      ", The solutions are returned and also stored in self.theta_k_values\n",
      "\n"
     ]
    },
    {
     "data": {
      "text/plain": [
       "[0.04958317672981037,\n",
       " 0.050083350322177506,\n",
       " 0.050332914771858285,\n",
       " -0.007499935017878208,\n",
       " -0.0075000253668460045,\n",
       " 0.0005003759470524089]"
      ]
     },
     "execution_count": 3,
     "metadata": {},
     "output_type": "execute_result"
    }
   ],
   "source": [
    "theta_eqs=thetas.theta_eqs(J,max_PT_order,spin_amount,input_couplings,input_generators, debugging_mode=False)\n",
    "\n",
    "theta_eqs.equation_initialize(equation_size_statistics=True)\n",
    "\n",
    "theta_eqs.equation_solving()"
   ]
  },
  {
   "cell_type": "code",
   "execution_count": 4,
   "metadata": {},
   "outputs": [
    {
     "data": {
      "text/plain": [
       "[0.04958317672981037,\n",
       " 0.050083350322177506,\n",
       " 0.050332914771858285,\n",
       " -0.007499935017878208,\n",
       " -0.0075000253668460045,\n",
       " 0.0005003759470524089]"
      ]
     },
     "execution_count": 4,
     "metadata": {},
     "output_type": "execute_result"
    }
   ],
   "source": [
    "# Here are the initialization parameters\n",
    "\n",
    "theta_eqs.theta_values"
   ]
  },
  {
   "cell_type": "code",
   "execution_count": null,
   "metadata": {},
   "outputs": [],
   "source": []
  }
 ],
 "metadata": {
  "kernelspec": {
   "display_name": "Python 3",
   "language": "python",
   "name": "python3"
  },
  "language_info": {
   "codemirror_mode": {
    "name": "ipython",
    "version": 3
   },
   "file_extension": ".py",
   "mimetype": "text/x-python",
   "name": "python",
   "nbconvert_exporter": "python",
   "pygments_lexer": "ipython3",
   "version": "3.6.4"
  },
  "toc": {
   "base_numbering": 1,
   "nav_menu": {
    "height": "229px",
    "width": "286px"
   },
   "number_sections": true,
   "sideBar": true,
   "skip_h1_title": false,
   "title_cell": "Table of Contents",
   "title_sidebar": "Contents",
   "toc_cell": false,
   "toc_position": {
    "height": "48px",
    "left": "1031px",
    "top": "110.8px",
    "width": "284px"
   },
   "toc_section_display": true,
   "toc_window_display": true
  }
 },
 "nbformat": 4,
 "nbformat_minor": 2
}
